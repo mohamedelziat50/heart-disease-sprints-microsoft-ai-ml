{
 "cells": [
  {
   "cell_type": "code",
   "execution_count": 9,
   "id": "a93804d8",
   "metadata": {},
   "outputs": [
    {
     "name": "stdout",
     "output_type": "stream",
     "text": [
      "Model accuracy: 0.867\n",
      "Model saved as: ../models/model.pkl\n"
     ]
    }
   ],
   "source": [
    "# 1. Save the trained model using joblib (.pkl format)\n",
    "import pandas as pd\n",
    "import joblib\n",
    "from sklearn.model_selection import train_test_split\n",
    "from sklearn.linear_model import LogisticRegression\n",
    "import os\n",
    "\n",
    "# Create models directory\n",
    "os.makedirs('../models', exist_ok=True)\n",
    "\n",
    "# Load preprocessed data\n",
    "df = pd.read_csv('../data/heart_disease_preprocessed.csv')\n",
    "X = df.drop('num', axis=1)\n",
    "y = (df['num'] > 0).astype(int)\n",
    "\n",
    "# Split data\n",
    "X_train, X_test, y_train, y_test = train_test_split(X, y, test_size=0.2, random_state=42)\n",
    "\n",
    "# Train best model (from hyperparameter tuning results)\n",
    "model = LogisticRegression(C=1, penalty='l2', solver='liblinear', random_state=42)\n",
    "model.fit(X_train, y_train)\n",
    "\n",
    "print(f\"Model accuracy: {model.score(X_test, y_test):.3f}\")\n",
    "\n",
    "# Save as model.pkl\n",
    "joblib.dump(model, '../models/model.pkl')\n",
    "print(\"Model saved as: ../models/model.pkl\")"
   ]
  },
  {
   "cell_type": "code",
   "execution_count": 10,
   "id": "b54b02b2",
   "metadata": {},
   "outputs": [
    {
     "name": "stdout",
     "output_type": "stream",
     "text": [
      "Loaded model accuracy: 0.867\n",
      "Sample prediction: No Disease\n",
      "Confidence: 0.940\n",
      "\n",
      "Model successfully exported and verified!\n"
     ]
    }
   ],
   "source": [
    "# 2. Ensure reproducibility by saving model pipeline (preprocessing + model)\n",
    "# Load and verify the saved model\n",
    "loaded_model = joblib.load('../models/model.pkl')\n",
    "\n",
    "# Test the loaded model\n",
    "accuracy = loaded_model.score(X_test, y_test)\n",
    "print(f\"Loaded model accuracy: {accuracy:.3f}\")\n",
    "\n",
    "# Quick prediction test\n",
    "sample_prediction = loaded_model.predict(X_test[:1])\n",
    "sample_probability = loaded_model.predict_proba(X_test[:1])\n",
    "\n",
    "print(f\"Sample prediction: {'Disease' if sample_prediction[0] == 1 else 'No Disease'}\")\n",
    "print(f\"Confidence: {sample_probability[0].max():.3f}\")\n",
    "print(\"\\nModel successfully exported and verified!\")"
   ]
  }
 ],
 "metadata": {
  "kernelspec": {
   "display_name": "Python 3",
   "language": "python",
   "name": "python3"
  },
  "language_info": {
   "codemirror_mode": {
    "name": "ipython",
    "version": 3
   },
   "file_extension": ".py",
   "mimetype": "text/x-python",
   "name": "python",
   "nbconvert_exporter": "python",
   "pygments_lexer": "ipython3",
   "version": "3.13.5"
  }
 },
 "nbformat": 4,
 "nbformat_minor": 5
}
